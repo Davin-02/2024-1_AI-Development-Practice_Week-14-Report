{
  "nbformat": 4,
  "nbformat_minor": 0,
  "metadata": {
    "colab": {
      "provenance": []
    },
    "kernelspec": {
      "name": "python3",
      "display_name": "Python 3"
    },
    "language_info": {
      "name": "python"
    }
  },
  "cells": [
    {
      "cell_type": "code",
      "source": [
        "from google.colab import drive  # 구글 코랩에서 구글 드라이브(파일)접근을 위한 라이브러리 import\n",
        "drive.mount('/content/gdrive')  # 구글 드라이브 mount\n",
        "\n",
        "# 리눅스 명령어를 사용해서 실습파일 'ChatbotData.csv'이 있는 폴더로 이동\n",
        "%cd \"/content/gdrive/MyDrive/고려사이버대학교/2024-1 AI개발실무\"\n",
        "# 리눅스 명령어를 사용해서 폴더내 파일 확인\n",
        "!ls"
      ],
      "metadata": {
        "colab": {
          "base_uri": "https://localhost:8080/"
        },
        "id": "ciLTl_M7HHYg",
        "outputId": "4b15063e-6ceb-4551-880b-66df2fa05cc9"
      },
      "execution_count": null,
      "outputs": [
        {
          "output_type": "stream",
          "name": "stdout",
          "text": [
            "Drive already mounted at /content/gdrive; to attempt to forcibly remount, call drive.mount(\"/content/gdrive\", force_remount=True).\n",
            "/content/gdrive/MyDrive/고려사이버대학교/2024-1 AI개발실무\n",
            "'2024-1 AI 개발 실무 14주차 리포트.ipynb'   ChatbotData.csv\n"
          ]
        }
      ]
    },
    {
      "cell_type": "code",
      "execution_count": null,
      "metadata": {
        "id": "pXzrWF_qamgQ",
        "colab": {
          "base_uri": "https://localhost:8080/"
        },
        "outputId": "f88ee74f-ce85-40d6-9046-6108cf22faa5"
      },
      "outputs": [
        {
          "output_type": "stream",
          "name": "stdout",
          "text": [
            "[[0.60297482]] <class 'numpy.ndarray'>\n",
            "문장 1: 저는 오늘 밥을 먹었습니다.\n",
            "문장 2: 저는 어제 밥을 먹었습니다.\n",
            "두 문장의 코사인 유사도: 0.6029748160380572\n"
          ]
        }
      ],
      "source": [
        "# 기존 예제 코드 분석\n",
        "\n",
        "# 문장 또는 문서의 TF-IDF 가중치를 계산하는 함수 import\n",
        "from sklearn.feature_extraction.text import TfidfVectorizer\n",
        "# 두 벡터 간의 코사인 유사도를 계산하는 함수 import\n",
        "from sklearn.metrics.pairwise import cosine_similarity\n",
        "\n",
        "# TfidfVectorizer 객체 생성\n",
        "vectorizer = TfidfVectorizer()\n",
        "\n",
        "# 한국어 문장 작성\n",
        "sentence1 = \"저는 오늘 밥을 먹었습니다.\"\n",
        "sentence2 = \"저는 어제 밥을 먹었습니다.\"\n",
        "# sentence2 = \"너는 그제 밥을 지었습니다.\"\n",
        "\n",
        "# sentence1 = \"나는 학교에 갔다\"\n",
        "# sentence2 = \"나는 영화관에 갔다\"\n",
        "\n",
        "# 두 문장을 TF-IDF 벡터로 변환(문장 내 각 단어의 중요도를 수치화)\n",
        "tfidf_matrix = vectorizer.fit_transform([sentence1, sentence2]) # Scipy의 CSR(Compressed Sparse Row) 형식의 희소 행렬(sparse matrix), 이 형식은 2차원 배열의 데이터를 메모리 효율적으로 저장하기 위해 0이 아닌 값들만을 저장\n",
        "\n",
        "# print( tfidf_matrix.toarray())\n",
        "\n",
        "# 두 문장의 코사인 유사도 계산\n",
        "cosine_sim = cosine_similarity(tfidf_matrix[0:1], tfidf_matrix[1:2]) # tfidf_matrix[0:1]는 첫 번째 행을 선택하는 슬라이싱\n",
        "print(cosine_sim, type(cosine_sim))\n",
        "\n",
        "print(f\"문장 1: {sentence1}\")\n",
        "print(f\"문장 2: {sentence2}\")\n",
        "print(f\"두 문장의 코사인 유사도: {cosine_sim[0][0]}\")\n"
      ]
    },
    {
      "cell_type": "code",
      "source": [
        "# 기존 챗봇 예제 코드 분석\n",
        "\n",
        "# 파이썬 데이터 분석 라이브러리인 판다스 improt\n",
        "import pandas as pd\n",
        "\n",
        "# sklearn라는 머신러닝 라이브러리에서 TfidfVectorizer와 cosine_similarity를 불러옴\n",
        "# TfidfVectorizer는 문서의 텍스트 데이터를 벡터 형태로 변환하는데 사용하며, cosine_similarity는 두 벡터 간의 코사인 유사도를 계산\n",
        "from sklearn.feature_extraction.text import TfidfVectorizer\n",
        "from sklearn.metrics.pairwise import cosine_similarity\n",
        "\n",
        "# 챗봇 클래스를 정의\n",
        "class SimpleChatBot:\n",
        "    # 챗봇 객체를 초기화하는 메서드, 초기화 시에는 입력된 데이터 파일을 로드하고, TfidfVectorizer를 사용해 질문 데이터를 벡터화함\n",
        "    def __init__(self, filepath):\n",
        "        self.questions, self.answers = self.load_data(filepath) ## 데이터 파일 로드\n",
        "        self.vectorizer = TfidfVectorizer()\n",
        "        self.question_vectors = self.vectorizer.fit_transform(self.questions)  # 질문을 TF-IDF로 변환\n",
        "\n",
        "    # CSV 파일로부터 질문과 답변 데이터를 불러오는 메서드\n",
        "    def load_data(self, filepath):\n",
        "        data = pd.read_csv(filepath)\n",
        "        questions = data['Q'].tolist()  # 질문열만 뽑아 파이썬 리스트로 저장\n",
        "        answers = data['A'].tolist()  # 답변열만 뽑아 파이썬 리스트로 저장\n",
        "        return questions, answers\n",
        "\n",
        "    # 입력 문장에 가장 잘 맞는 답변을 찾는 메서드, 입력 문장을 벡터화하고, 이를 기존 질문 벡터들과 비교하여 가장 높은 유사도를 가진 질문의 답변을 반환함\n",
        "    def find_best_answer(self, input_sentence):\n",
        "        # 사용자 입력 문장을 벡터화\n",
        "        input_vector = self.vectorizer.transform([input_sentence])\n",
        "        # 사용자 입력 벡터와 기존 질문 벡터들 간의 코사인 유사도를 계산\n",
        "        similarities = cosine_similarity(input_vector, self.question_vectors) # 코사인 유사도 값들을 저장\n",
        "\n",
        "        # 가장 유사도가 높은 질문의 인덱스를 찾음\n",
        "        best_match_index = similarities.argmax()   # 유사도 값이 가장 큰 값의 인덱스를 반환\n",
        "        # 가장 유사한 질문에 해당하는 답변을 반환\n",
        "        return self.answers[best_match_index]\n",
        "\n",
        "# 데이터 파일의 경로를 지정합니다.\n",
        "filepath = 'ChatbotData.csv'\n",
        "\n",
        "# 챗봇 객체를 생성합니다.\n",
        "chatbot = SimpleChatBot(filepath)\n",
        "\n",
        "# '종료'라는 입력이 나올 때까지 사용자의 입력에 따라 챗봇의 응답을 출력하는 무한 루프를 실행합니다.\n",
        "while True:\n",
        "    input_sentence = input('You: ')\n",
        "    if input_sentence.lower() == '종료':\n",
        "        break\n",
        "    response = chatbot.find_best_answer(input_sentence)\n",
        "    print('Chatbot:', response)"
      ],
      "metadata": {
        "id": "bDDt9Wwuaqwq",
        "colab": {
          "base_uri": "https://localhost:8080/"
        },
        "outputId": "e995631b-ac10-4a31-99e4-ec399b49032b"
      },
      "execution_count": null,
      "outputs": [
        {
          "name": "stdout",
          "output_type": "stream",
          "text": [
            "You: 안녕\n",
            "Chatbot: 안녕하세요.\n",
            "You: 종료\n"
          ]
        }
      ]
    },
    {
      "cell_type": "code",
      "source": [
        "import pandas as pd\n",
        "import numpy as np\n",
        "\n",
        "# 레벤슈타인 거리 계산 함수 작성\n",
        "# 레벤슈타인 거리는, 두 문자열 간의 편집 거리를 측정하여 문자열 간의 유사성을 측정하는 유사도 분석 알고리즘\n",
        "def levenshtein_distance(sentence1, sentence2):\n",
        "    if sentence1 == sentence2: # sentence1와 sentence2가 같은 문장이면 레벤슈타인 거리는 0\n",
        "        return 0\n",
        "\n",
        "    if len(sentence1) < len(sentence2): # 길이가 긴 문장을 sentence1으로 변경\n",
        "        sentence1, sentence2 = (sentence2, sentence1)\n",
        "\n",
        "    if len(sentence2) == 0: # sentence2의 길이가 0이면, 레벤슈타인 거리는 sentence1의 길이\n",
        "        return len(sentence1)\n",
        "\n",
        "    previous_row = range(len(sentence2) + 1)  # sentence2에 대한 0열 초기화\n",
        "    matrix = [[0 if i else j for j in range(len(sentence2) + 1)] for i in range(len(sentence1) + 1)] # (len(sentence2) + 1) * (len(sentence1) + 1)\n",
        "    # print(len(sentence2), len(sentence1))\n",
        "    # print(len(matrix), len(matrix[0]))\n",
        "\n",
        "    for i, c1 in enumerate(sentence1):  # i는 sentence1의 인덱스, c는 sentence1의 값이 순차적으로 들어감\n",
        "        matrix[i+1][0] = current_row = i + 1 # i는 0부터 시작하고, row는 1부터 시작하기 때문에 1을 더해줌\n",
        "\n",
        "        # sentence1의 한글자 c에 대해 sentence2의 길이만큼 반복\n",
        "        for j, c2 in enumerate(sentence2):  # i는 sentence1의 인덱스, c2는 sentence2의 값이 순차적으로 들어감\n",
        "            # 삽입이 필요한 경우는 , 왼쪽 수에서 +1\n",
        "            insertions = matrix[current_row-1][j + 1] + 1\n",
        "            # 삭제가 필요한 경우는, 위쪽 수에서 +1\n",
        "            deletions = matrix[current_row][j] + 1\n",
        "            # 수정이 필요한 경우는, 왼쪽위(대각선) 수에서 +1, 글자가 동일하면 +0\n",
        "            substitutions = matrix[current_row-1][j] + int(c1 != c2)\n",
        "\n",
        "            # insertions, deletions, substitutions 중에서 가장 작은 값을 저장\n",
        "            matrix[i+1][j + 1] = min(insertions, deletions, substitutions)\n",
        "            # print(f\"{insertions =} {deletions = } {substitutions = }\")\n",
        "\n",
        "        previous_row = current_row\n",
        "    for i in matrix:\n",
        "        print(i)\n",
        "    return matrix[-1][-1] # 최종적으로 마지막 수가 결과\n",
        "\n",
        "# 강의에서 사용한 예제로 테스트\n",
        "sentence1 = \"유사도나 분석 할까요\"\n",
        "sentence2 = \"얼마나 분석이 될까요\"\n",
        "levenshtein_distance(sentence1, sentence2)"
      ],
      "metadata": {
        "colab": {
          "base_uri": "https://localhost:8080/"
        },
        "id": "oy0dl6ZCQC9o",
        "outputId": "a67a35fb-4964-4861-f5d8-31091da8685d"
      },
      "execution_count": null,
      "outputs": [
        {
          "output_type": "stream",
          "name": "stdout",
          "text": [
            "[0, 1, 2, 3, 4, 5, 6, 7, 8, 9, 10, 11]\n",
            "[1, 1, 2, 3, 4, 5, 6, 7, 8, 9, 10, 11]\n",
            "[2, 2, 2, 3, 4, 5, 6, 7, 8, 9, 10, 11]\n",
            "[3, 3, 3, 3, 4, 5, 6, 7, 8, 9, 10, 11]\n",
            "[4, 4, 4, 3, 4, 5, 6, 7, 8, 9, 10, 11]\n",
            "[5, 5, 5, 4, 3, 4, 5, 6, 7, 8, 9, 10]\n",
            "[6, 6, 6, 5, 4, 3, 4, 5, 6, 7, 8, 9]\n",
            "[7, 7, 7, 6, 5, 4, 3, 4, 5, 6, 7, 8]\n",
            "[8, 8, 8, 7, 6, 5, 4, 4, 4, 5, 6, 7]\n",
            "[9, 9, 9, 8, 7, 6, 5, 5, 5, 5, 6, 7]\n",
            "[10, 10, 10, 9, 8, 7, 6, 6, 6, 6, 5, 6]\n",
            "[11, 11, 11, 10, 9, 8, 7, 7, 7, 7, 6, 5]\n"
          ]
        },
        {
          "output_type": "execute_result",
          "data": {
            "text/plain": [
              "5"
            ]
          },
          "metadata": {},
          "execution_count": 16
        }
      ]
    },
    {
      "cell_type": "code",
      "source": [
        "import pandas as pd\n",
        "import numpy as np\n",
        "\n",
        "# 레벤슈타인 거리 계산 함수 작성\n",
        "# 레벤슈타인 거리는, 두 문자열 간의 편집 거리를 측정하여 문자열 간의 유사성을 측정하는 유사도 분석 알고리즘\n",
        "def levenshtein_distance(sentence1, sentence2):\n",
        "    if sentence1 == sentence2: # sentence1와 sentence2가 같은 문장이면 레벤슈타인 거리는 0\n",
        "        return 0\n",
        "\n",
        "    if len(sentence1) < len(sentence2): # 길이가 긴 문장을 sentence1으로 변경\n",
        "        sentence1, sentence2 = (sentence2, sentence1)\n",
        "\n",
        "    if len(sentence2) == 0: # sentence2의 길이가 0이면, 레벤슈타인 거리는 sentence1의 길이\n",
        "        return len(sentence1)\n",
        "\n",
        "    previous_row = range(len(sentence2) + 1)  # sentence2에 대한 0열 초기화\n",
        "    matrix = [[0 if i else j for j in range(len(sentence2) + 1)] for i in range(len(sentence1) + 1)] # (len(sentence2) + 1) * (len(sentence1) + 1)\n",
        "    # print(len(sentence2), len(sentence1))\n",
        "    # print(len(matrix), len(matrix[0]))\n",
        "\n",
        "    for i, c1 in enumerate(sentence1):  # i는 sentence1의 인덱스, c는 sentence1의 값이 순차적으로 들어감\n",
        "        matrix[i+1][0] = current_row = i + 1 # i는 0부터 시작하고, row는 1부터 시작하기 때문에 1을 더해줌\n",
        "\n",
        "        # sentence1의 한글자 c에 대해 sentence2의 길이만큼 반복\n",
        "        for j, c2 in enumerate(sentence2):  # i는 sentence1의 인덱스, c2는 sentence2의 값이 순차적으로 들어감\n",
        "            # 삽입이 필요한 경우는 , 왼쪽 수에서 +1\n",
        "            insertions = matrix[current_row-1][j + 1] + 1\n",
        "            # 삭제가 필요한 경우는, 위쪽 수에서 +1\n",
        "            deletions = matrix[current_row][j] + 1\n",
        "            # 수정이 필요한 경우는, 왼쪽위(대각선) 수에서 +1, 글자가 동일하면 +0\n",
        "            substitutions = matrix[current_row-1][j] + int(c1 != c2)\n",
        "\n",
        "            # insertions, deletions, substitutions 중에서 가장 작은 값을 저장\n",
        "            matrix[i+1][j + 1] = min(insertions, deletions, substitutions)\n",
        "            # print(f\"{insertions =} {deletions = } {substitutions = }\")\n",
        "\n",
        "        previous_row = current_row\n",
        "    # for i in matrix:\n",
        "        # print(i)\n",
        "    return matrix[-1][-1] # 최종적으로 마지막 수가 결과\n",
        "\n",
        "\n",
        "# 챗봇 클래스 정의\n",
        "class SimpleChatBot:\n",
        "    def __init__(self, filepath):\n",
        "        self.questions, self.answers = self.load_data(filepath)\n",
        "\n",
        "    def load_data(self, filepath):\n",
        "        data = pd.read_csv(filepath)\n",
        "        questions = data['Q'].tolist()\n",
        "        answers = data['A'].tolist()\n",
        "        return questions, answers\n",
        "\n",
        "    # input_sentence와 유사도가 높은 questions에 대한 답변을 찾는 메서드\n",
        "    def find_best_answer(self, input_sentence):\n",
        "        # 가장 유사한 답변을 찾기 위해서 min_distance의 값을 가장 큰 값으로 초기화\n",
        "        min_distance = float('inf')\n",
        "        # 가장 적합한 답변의 index를 저장하기 위한 변수\n",
        "        best_match_index = 0\n",
        "\n",
        "        # input_sentence의 모든 questions에 대한 유사도를 측정\n",
        "        for i, question in enumerate(self.questions):\n",
        "            # levenshtein_distance함수를 사용해서 레벤슈타인 거리 계산\n",
        "            distance = levenshtein_distance(input_sentence, question)\n",
        "            if distance < min_distance: # min_distance보다 현재의 distance가 작으면\n",
        "                min_distance = distance # 현재의 distance를 min_distance로 저장\n",
        "                best_match_index = i # 현재의 index를 최적의 index로 저장\n",
        "        return self.answers[best_match_index] # input_sentence와 유사도가 높은 questions의 index에 대한 답변을 반환\n",
        "\n",
        "# 데이터 파일 경로\n",
        "filepath = 'ChatbotData.csv'\n",
        "\n",
        "# 챗봇 객체 생성\n",
        "chatbot = SimpleChatBot(filepath)\n",
        "\n",
        "# 사용자 입력 받기\n",
        "while True:\n",
        "    input_sentence = input('You: ')\n",
        "    if input_sentence.lower() == '종료':\n",
        "        break\n",
        "    response = chatbot.find_best_answer(input_sentence)\n",
        "    print('Chatbot:', response)\n"
      ],
      "metadata": {
        "colab": {
          "base_uri": "https://localhost:8080/"
        },
        "id": "bJoN6Z7mGKhA",
        "outputId": "c14c66bf-3a38-4e1c-8349-3ffeea9d600b"
      },
      "execution_count": null,
      "outputs": [
        {
          "name": "stdout",
          "output_type": "stream",
          "text": [
            "You: 안녕\n",
            "Chatbot: 안녕하세요.\n",
            "You: 제발 너 이제 된거니?\n",
            "Chatbot: 다른 게임해보세요.\n",
            "You: 악\n",
            "Chatbot: 네\n",
            "You: 려줘\n",
            "Chatbot: 저도 즐거워요\n",
            "You: 살려달라구\n",
            "Chatbot: 방학이 참 짧죠.\n",
            "You: 이게 내 최선이야\n",
            "Chatbot: 아니에요. 너무 자책하지 마세요.\n",
            "You: 고마워...\n",
            "Chatbot: 감사합니다.\n",
            "You: 너때문인데 사실..ㅠ\n",
            "Chatbot: 딴 생각 하지마세요.\n",
            "You: ㅠ 미안\n",
            "Chatbot: 모두 제 잘못입니다.\n",
            "You: 종료\n"
          ]
        }
      ]
    }
  ]
}